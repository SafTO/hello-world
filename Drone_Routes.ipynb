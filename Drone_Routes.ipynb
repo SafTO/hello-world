{
  "nbformat": 4,
  "nbformat_minor": 0,
  "metadata": {
    "colab": {
      "provenance": [],
      "authorship_tag": "ABX9TyMVbSHublTBW3P0V8yjktEH",
      "include_colab_link": true
    },
    "kernelspec": {
      "name": "python3",
      "display_name": "Python 3"
    },
    "language_info": {
      "name": "python"
    }
  },
  "cells": [
    {
      "cell_type": "markdown",
      "metadata": {
        "id": "view-in-github",
        "colab_type": "text"
      },
      "source": [
        "<a href=\"https://colab.research.google.com/github/SafTO/hello-world/blob/master/Drone_Routes.ipynb\" target=\"_parent\"><img src=\"https://colab.research.google.com/assets/colab-badge.svg\" alt=\"Open In Colab\"/></a>"
      ]
    },
    {
      "cell_type": "code",
      "execution_count": 1,
      "metadata": {
        "colab": {
          "base_uri": "https://localhost:8080/"
        },
        "id": "v1nPBCfz3C2o",
        "outputId": "c2cab5bc-b664-4b28-b25a-4c07c2d0afd3"
      },
      "outputs": [
        {
          "name": "stdout",
          "output_type": "stream",
          "text": [
            "Enter the next route instructions file or enter STOP to finish: 1\n",
            "Error: File '1' not found.\n",
            "Enter the next route instructions file or enter STOP to finish: stop\n"
          ]
        }
      ],
      "source": [
        "def plot_route(filename):\n",
        "    grid_size = 12\n",
        "    grid = [[' ' for _ in range(grid_size)] for _ in range(grid_size)]\n",
        "\n",
        "    try:\n",
        "        with open(filename, 'r') as file:\n",
        "            x, y = map(int, file.readline().split())\n",
        "            grid[y][x] = 'S'\n",
        "\n",
        "            directions = file.readline().strip()\n",
        "            for direction in directions:\n",
        "                if direction == 'N' and y > 0:\n",
        "                    y -= 1\n",
        "                elif direction == 'S' and y < grid_size - 1:\n",
        "                    y += 1\n",
        "                elif direction == 'E' and x < grid_size - 1:\n",
        "                    x += 1\n",
        "                elif direction == 'W' and x > 0:\n",
        "                    x -= 1\n",
        "                else:\n",
        "                    print(\"Error: The route is outside of the grid.\")\n",
        "                    return\n",
        "\n",
        "                grid[y][x] = 'X'\n",
        "\n",
        "    except FileNotFoundError:\n",
        "        print(f\"Error: File '{filename}' not found.\")\n",
        "        return\n",
        "\n",
        "    print(\"\\nRoute Plot:\")\n",
        "    for row in grid:\n",
        "        print(' '.join(row))\n",
        "\n",
        "    print(\"\\nRoute Coordinates:\")\n",
        "    print(f\"Start: ({x}, {y})\")\n",
        "    print(f\"End: ({x}, {y})\")\n",
        "\n",
        "\n",
        "def main():\n",
        "    while True:\n",
        "        filename = input(\"Enter the next route instructions file or enter STOP to finish: \")\n",
        "        if filename.upper() == 'STOP':\n",
        "            break\n",
        "        else:\n",
        "            plot_route(filename)\n",
        "\n",
        "\n",
        "if __name__ == \"__main__\":\n",
        "    main()"
      ]
    }
  ]
}